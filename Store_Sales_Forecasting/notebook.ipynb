{
 "cells": [
  {
   "cell_type": "code",
   "execution_count": 55,
   "id": "4ab68999",
   "metadata": {},
   "outputs": [],
   "source": [
    "import pandas as pd\n",
    "import numpy as np\n",
    "import matplotlib.pyplot as plt\n",
    "import seaborn as sns\n",
    "import missingno as msno\n",
    "import plotly.express as px\n",
    "\n",
    "from sklearn.linear_model import LinearRegression\n",
    "from sklearn.ensemble import RandomForestRegressor, RandomForestClassifier\n",
    "from xgboost import XGBRegressor\n",
    "\n",
    "from sklearn.feature_selection import SelectKBest, f_regression\n",
    "\n",
    "from sklearn.model_selection import GridSearchCV\n",
    "from sklearn.metrics import mean_squared_error, mean_absolute_error, root_mean_squared_error\n",
    "from sklearn.model_selection import cross_val_score\n",
    "\n",
    "from sklearn.model_selection import train_test_split\n",
    "from sklearn.impute import SimpleImputer\n",
    "from sklearn.preprocessing import StandardScaler, OneHotEncoder\n",
    "from sklearn.compose import ColumnTransformer\n",
    "from sklearn.pipeline import Pipeline\n",
    "from sklearn.impute import SimpleImputer, KNNImputer\n",
    "\n",
    "from scipy import stats\n",
    "import numpy as np\n",
    "from scipy.stats import boxcox"
   ]
  },
  {
   "cell_type": "markdown",
   "id": "7666ad0f",
   "metadata": {},
   "source": [
    "# Importation des données"
   ]
  },
  {
   "cell_type": "code",
   "execution_count": 2,
   "id": "30db05c6",
   "metadata": {},
   "outputs": [],
   "source": [
    "holidays = pd.read_csv(\"holidays.csv\")\n",
    "dates = pd.read_csv(\"dates.csv\")\n",
    "sample_submission = pd.read_csv(\"SampleSubmission.csv\")\n",
    "stores = pd.read_csv(\"stores.csv\")\n",
    "test = pd.read_csv(\"test.csv\")\n",
    "train = pd.read_csv(\"train.csv\")"
   ]
  },
  {
   "cell_type": "code",
   "execution_count": 3,
   "id": "49535cab",
   "metadata": {},
   "outputs": [],
   "source": [
    "train_ = pd.merge(train, dates, how=\"left\", on=\"date\")\n",
    "test_ = pd.merge(test, dates, how=\"left\", on=\"date\")\n",
    "train__ = pd.merge(train_, holidays, on=\"date\", how=\"left\")\n",
    "test__ = pd.merge(test_, holidays, on=\"date\", how=\"left\")\n",
    "train___ = pd.merge(train__, stores, on=\"store_id\", how='left')\n",
    "test___ = pd.merge(test__, stores, on=\"store_id\", how='left')\n",
    "train___.rename(columns={'type_x': 'type_holidays', 'type_y': 'type_store'}, inplace=True)\n",
    "test___.rename(columns={'type_x': 'type_holidays', 'type_y': 'type_store'}, inplace=True)"
   ]
  },
  {
   "cell_type": "code",
   "execution_count": 4,
   "id": "40a6839c",
   "metadata": {},
   "outputs": [
    {
     "data": {
      "text/html": [
       "<div>\n",
       "<style scoped>\n",
       "    .dataframe tbody tr th:only-of-type {\n",
       "        vertical-align: middle;\n",
       "    }\n",
       "\n",
       "    .dataframe tbody tr th {\n",
       "        vertical-align: top;\n",
       "    }\n",
       "\n",
       "    .dataframe thead th {\n",
       "        text-align: right;\n",
       "    }\n",
       "</style>\n",
       "<table border=\"1\" class=\"dataframe\">\n",
       "  <thead>\n",
       "    <tr style=\"text-align: right;\">\n",
       "      <th></th>\n",
       "      <th>date</th>\n",
       "      <th>store_id</th>\n",
       "      <th>category_id</th>\n",
       "      <th>target</th>\n",
       "      <th>onpromotion</th>\n",
       "      <th>nbr_of_transactions</th>\n",
       "      <th>year</th>\n",
       "      <th>month</th>\n",
       "      <th>dayofmonth</th>\n",
       "      <th>dayofweek</th>\n",
       "      <th>...</th>\n",
       "      <th>is_month_end</th>\n",
       "      <th>is_quarter_start</th>\n",
       "      <th>is_quarter_end</th>\n",
       "      <th>is_year_start</th>\n",
       "      <th>is_year_end</th>\n",
       "      <th>year_weekofyear</th>\n",
       "      <th>type_holidays</th>\n",
       "      <th>city</th>\n",
       "      <th>type_store</th>\n",
       "      <th>cluster</th>\n",
       "    </tr>\n",
       "  </thead>\n",
       "  <tbody>\n",
       "    <tr>\n",
       "      <th>0</th>\n",
       "      <td>365</td>\n",
       "      <td>store_1</td>\n",
       "      <td>category_24</td>\n",
       "      <td>0.0</td>\n",
       "      <td>0</td>\n",
       "      <td>0.0</td>\n",
       "      <td>1</td>\n",
       "      <td>1</td>\n",
       "      <td>1</td>\n",
       "      <td>2</td>\n",
       "      <td>...</td>\n",
       "      <td>False</td>\n",
       "      <td>True</td>\n",
       "      <td>False</td>\n",
       "      <td>True</td>\n",
       "      <td>False</td>\n",
       "      <td>101</td>\n",
       "      <td>0.0</td>\n",
       "      <td>0</td>\n",
       "      <td>0</td>\n",
       "      <td>0</td>\n",
       "    </tr>\n",
       "    <tr>\n",
       "      <th>1</th>\n",
       "      <td>365</td>\n",
       "      <td>store_1</td>\n",
       "      <td>category_21</td>\n",
       "      <td>0.0</td>\n",
       "      <td>0</td>\n",
       "      <td>0.0</td>\n",
       "      <td>1</td>\n",
       "      <td>1</td>\n",
       "      <td>1</td>\n",
       "      <td>2</td>\n",
       "      <td>...</td>\n",
       "      <td>False</td>\n",
       "      <td>True</td>\n",
       "      <td>False</td>\n",
       "      <td>True</td>\n",
       "      <td>False</td>\n",
       "      <td>101</td>\n",
       "      <td>0.0</td>\n",
       "      <td>0</td>\n",
       "      <td>0</td>\n",
       "      <td>0</td>\n",
       "    </tr>\n",
       "    <tr>\n",
       "      <th>2</th>\n",
       "      <td>365</td>\n",
       "      <td>store_1</td>\n",
       "      <td>category_32</td>\n",
       "      <td>0.0</td>\n",
       "      <td>0</td>\n",
       "      <td>0.0</td>\n",
       "      <td>1</td>\n",
       "      <td>1</td>\n",
       "      <td>1</td>\n",
       "      <td>2</td>\n",
       "      <td>...</td>\n",
       "      <td>False</td>\n",
       "      <td>True</td>\n",
       "      <td>False</td>\n",
       "      <td>True</td>\n",
       "      <td>False</td>\n",
       "      <td>101</td>\n",
       "      <td>0.0</td>\n",
       "      <td>0</td>\n",
       "      <td>0</td>\n",
       "      <td>0</td>\n",
       "    </tr>\n",
       "    <tr>\n",
       "      <th>3</th>\n",
       "      <td>365</td>\n",
       "      <td>store_1</td>\n",
       "      <td>category_18</td>\n",
       "      <td>0.0</td>\n",
       "      <td>0</td>\n",
       "      <td>0.0</td>\n",
       "      <td>1</td>\n",
       "      <td>1</td>\n",
       "      <td>1</td>\n",
       "      <td>2</td>\n",
       "      <td>...</td>\n",
       "      <td>False</td>\n",
       "      <td>True</td>\n",
       "      <td>False</td>\n",
       "      <td>True</td>\n",
       "      <td>False</td>\n",
       "      <td>101</td>\n",
       "      <td>0.0</td>\n",
       "      <td>0</td>\n",
       "      <td>0</td>\n",
       "      <td>0</td>\n",
       "    </tr>\n",
       "    <tr>\n",
       "      <th>4</th>\n",
       "      <td>365</td>\n",
       "      <td>store_1</td>\n",
       "      <td>category_26</td>\n",
       "      <td>0.0</td>\n",
       "      <td>0</td>\n",
       "      <td>0.0</td>\n",
       "      <td>1</td>\n",
       "      <td>1</td>\n",
       "      <td>1</td>\n",
       "      <td>2</td>\n",
       "      <td>...</td>\n",
       "      <td>False</td>\n",
       "      <td>True</td>\n",
       "      <td>False</td>\n",
       "      <td>True</td>\n",
       "      <td>False</td>\n",
       "      <td>101</td>\n",
       "      <td>0.0</td>\n",
       "      <td>0</td>\n",
       "      <td>0</td>\n",
       "      <td>0</td>\n",
       "    </tr>\n",
       "  </tbody>\n",
       "</table>\n",
       "<p>5 rows × 24 columns</p>\n",
       "</div>"
      ],
      "text/plain": [
       "   date store_id  category_id  target  onpromotion  nbr_of_transactions  year  \\\n",
       "0   365  store_1  category_24     0.0            0                  0.0     1   \n",
       "1   365  store_1  category_21     0.0            0                  0.0     1   \n",
       "2   365  store_1  category_32     0.0            0                  0.0     1   \n",
       "3   365  store_1  category_18     0.0            0                  0.0     1   \n",
       "4   365  store_1  category_26     0.0            0                  0.0     1   \n",
       "\n",
       "   month  dayofmonth  dayofweek  ...  is_month_end  is_quarter_start  \\\n",
       "0      1           1          2  ...         False              True   \n",
       "1      1           1          2  ...         False              True   \n",
       "2      1           1          2  ...         False              True   \n",
       "3      1           1          2  ...         False              True   \n",
       "4      1           1          2  ...         False              True   \n",
       "\n",
       "   is_quarter_end  is_year_start  is_year_end  year_weekofyear  type_holidays  \\\n",
       "0           False           True        False              101            0.0   \n",
       "1           False           True        False              101            0.0   \n",
       "2           False           True        False              101            0.0   \n",
       "3           False           True        False              101            0.0   \n",
       "4           False           True        False              101            0.0   \n",
       "\n",
       "   city  type_store  cluster  \n",
       "0     0           0        0  \n",
       "1     0           0        0  \n",
       "2     0           0        0  \n",
       "3     0           0        0  \n",
       "4     0           0        0  \n",
       "\n",
       "[5 rows x 24 columns]"
      ]
     },
     "execution_count": 4,
     "metadata": {},
     "output_type": "execute_result"
    }
   ],
   "source": [
    "train___.head()"
   ]
  },
  {
   "cell_type": "code",
   "execution_count": 5,
   "id": "5a5a9b05",
   "metadata": {},
   "outputs": [],
   "source": [
    "TARGET = \"target\""
   ]
  },
  {
   "cell_type": "code",
   "execution_count": 6,
   "id": "35ac43c4",
   "metadata": {},
   "outputs": [
    {
     "data": {
      "text/html": [
       "<div>\n",
       "<style scoped>\n",
       "    .dataframe tbody tr th:only-of-type {\n",
       "        vertical-align: middle;\n",
       "    }\n",
       "\n",
       "    .dataframe tbody tr th {\n",
       "        vertical-align: top;\n",
       "    }\n",
       "\n",
       "    .dataframe thead th {\n",
       "        text-align: right;\n",
       "    }\n",
       "</style>\n",
       "<table border=\"1\" class=\"dataframe\">\n",
       "  <thead>\n",
       "    <tr style=\"text-align: right;\">\n",
       "      <th></th>\n",
       "      <th>date</th>\n",
       "      <th>store_id</th>\n",
       "      <th>category_id</th>\n",
       "      <th>target</th>\n",
       "      <th>onpromotion</th>\n",
       "      <th>nbr_of_transactions</th>\n",
       "      <th>year</th>\n",
       "      <th>month</th>\n",
       "      <th>dayofmonth</th>\n",
       "      <th>dayofweek</th>\n",
       "      <th>...</th>\n",
       "      <th>is_quarter_start</th>\n",
       "      <th>is_quarter_end</th>\n",
       "      <th>is_year_start</th>\n",
       "      <th>is_year_end</th>\n",
       "      <th>year_weekofyear</th>\n",
       "      <th>type_holidays</th>\n",
       "      <th>city</th>\n",
       "      <th>type_store</th>\n",
       "      <th>cluster</th>\n",
       "      <th>ID</th>\n",
       "    </tr>\n",
       "  </thead>\n",
       "  <tbody>\n",
       "    <tr>\n",
       "      <th>0</th>\n",
       "      <td>365</td>\n",
       "      <td>store_1</td>\n",
       "      <td>category_24</td>\n",
       "      <td>0.0</td>\n",
       "      <td>0</td>\n",
       "      <td>0.0</td>\n",
       "      <td>1</td>\n",
       "      <td>1</td>\n",
       "      <td>1</td>\n",
       "      <td>2</td>\n",
       "      <td>...</td>\n",
       "      <td>True</td>\n",
       "      <td>False</td>\n",
       "      <td>True</td>\n",
       "      <td>False</td>\n",
       "      <td>101</td>\n",
       "      <td>0.0</td>\n",
       "      <td>0</td>\n",
       "      <td>0</td>\n",
       "      <td>0</td>\n",
       "      <td>year_week_101_store_1_category_24</td>\n",
       "    </tr>\n",
       "    <tr>\n",
       "      <th>1</th>\n",
       "      <td>365</td>\n",
       "      <td>store_1</td>\n",
       "      <td>category_21</td>\n",
       "      <td>0.0</td>\n",
       "      <td>0</td>\n",
       "      <td>0.0</td>\n",
       "      <td>1</td>\n",
       "      <td>1</td>\n",
       "      <td>1</td>\n",
       "      <td>2</td>\n",
       "      <td>...</td>\n",
       "      <td>True</td>\n",
       "      <td>False</td>\n",
       "      <td>True</td>\n",
       "      <td>False</td>\n",
       "      <td>101</td>\n",
       "      <td>0.0</td>\n",
       "      <td>0</td>\n",
       "      <td>0</td>\n",
       "      <td>0</td>\n",
       "      <td>year_week_101_store_1_category_21</td>\n",
       "    </tr>\n",
       "    <tr>\n",
       "      <th>2</th>\n",
       "      <td>365</td>\n",
       "      <td>store_1</td>\n",
       "      <td>category_32</td>\n",
       "      <td>0.0</td>\n",
       "      <td>0</td>\n",
       "      <td>0.0</td>\n",
       "      <td>1</td>\n",
       "      <td>1</td>\n",
       "      <td>1</td>\n",
       "      <td>2</td>\n",
       "      <td>...</td>\n",
       "      <td>True</td>\n",
       "      <td>False</td>\n",
       "      <td>True</td>\n",
       "      <td>False</td>\n",
       "      <td>101</td>\n",
       "      <td>0.0</td>\n",
       "      <td>0</td>\n",
       "      <td>0</td>\n",
       "      <td>0</td>\n",
       "      <td>year_week_101_store_1_category_32</td>\n",
       "    </tr>\n",
       "    <tr>\n",
       "      <th>3</th>\n",
       "      <td>365</td>\n",
       "      <td>store_1</td>\n",
       "      <td>category_18</td>\n",
       "      <td>0.0</td>\n",
       "      <td>0</td>\n",
       "      <td>0.0</td>\n",
       "      <td>1</td>\n",
       "      <td>1</td>\n",
       "      <td>1</td>\n",
       "      <td>2</td>\n",
       "      <td>...</td>\n",
       "      <td>True</td>\n",
       "      <td>False</td>\n",
       "      <td>True</td>\n",
       "      <td>False</td>\n",
       "      <td>101</td>\n",
       "      <td>0.0</td>\n",
       "      <td>0</td>\n",
       "      <td>0</td>\n",
       "      <td>0</td>\n",
       "      <td>year_week_101_store_1_category_18</td>\n",
       "    </tr>\n",
       "    <tr>\n",
       "      <th>4</th>\n",
       "      <td>365</td>\n",
       "      <td>store_1</td>\n",
       "      <td>category_26</td>\n",
       "      <td>0.0</td>\n",
       "      <td>0</td>\n",
       "      <td>0.0</td>\n",
       "      <td>1</td>\n",
       "      <td>1</td>\n",
       "      <td>1</td>\n",
       "      <td>2</td>\n",
       "      <td>...</td>\n",
       "      <td>True</td>\n",
       "      <td>False</td>\n",
       "      <td>True</td>\n",
       "      <td>False</td>\n",
       "      <td>101</td>\n",
       "      <td>0.0</td>\n",
       "      <td>0</td>\n",
       "      <td>0</td>\n",
       "      <td>0</td>\n",
       "      <td>year_week_101_store_1_category_26</td>\n",
       "    </tr>\n",
       "  </tbody>\n",
       "</table>\n",
       "<p>5 rows × 25 columns</p>\n",
       "</div>"
      ],
      "text/plain": [
       "   date store_id  category_id  target  onpromotion  nbr_of_transactions  year  \\\n",
       "0   365  store_1  category_24     0.0            0                  0.0     1   \n",
       "1   365  store_1  category_21     0.0            0                  0.0     1   \n",
       "2   365  store_1  category_32     0.0            0                  0.0     1   \n",
       "3   365  store_1  category_18     0.0            0                  0.0     1   \n",
       "4   365  store_1  category_26     0.0            0                  0.0     1   \n",
       "\n",
       "   month  dayofmonth  dayofweek  ...  is_quarter_start  is_quarter_end  \\\n",
       "0      1           1          2  ...              True           False   \n",
       "1      1           1          2  ...              True           False   \n",
       "2      1           1          2  ...              True           False   \n",
       "3      1           1          2  ...              True           False   \n",
       "4      1           1          2  ...              True           False   \n",
       "\n",
       "   is_year_start  is_year_end  year_weekofyear  type_holidays  city  \\\n",
       "0           True        False              101            0.0     0   \n",
       "1           True        False              101            0.0     0   \n",
       "2           True        False              101            0.0     0   \n",
       "3           True        False              101            0.0     0   \n",
       "4           True        False              101            0.0     0   \n",
       "\n",
       "   type_store  cluster                                 ID  \n",
       "0           0        0  year_week_101_store_1_category_24  \n",
       "1           0        0  year_week_101_store_1_category_21  \n",
       "2           0        0  year_week_101_store_1_category_32  \n",
       "3           0        0  year_week_101_store_1_category_18  \n",
       "4           0        0  year_week_101_store_1_category_26  \n",
       "\n",
       "[5 rows x 25 columns]"
      ]
     },
     "execution_count": 6,
     "metadata": {},
     "output_type": "execute_result"
    }
   ],
   "source": [
    "test___[\"ID\"] = (\n",
    "    \"year_week_\" +\n",
    "    test___[\"year_weekofyear\"].astype(str) +\n",
    "    \"_\" +\n",
    "    test___[\"store_id\"].astype(str) +\n",
    "    \"_\" +\n",
    "    test___[\"category_id\"].astype(str)\n",
    ")\n",
    "train___.head()\n",
    "train___[\"ID\"] = (\n",
    "    \"year_week_\" +\n",
    "    train___[\"year_weekofyear\"].astype(str) +\n",
    "    \"_\" +\n",
    "    train___[\"store_id\"].astype(str) +\n",
    "    \"_\" +\n",
    "    train___[\"category_id\"].astype(str)\n",
    ")\n",
    "train___.head()"
   ]
  },
  {
   "cell_type": "code",
   "execution_count": 7,
   "id": "0cbc2b93",
   "metadata": {},
   "outputs": [
    {
     "name": "stdout",
     "output_type": "stream",
     "text": [
      "['target', 'onpromotion'] ['type_holidays', 'city', 'type_store', 'cluster'] ['year', 'month', 'dayofmonth', 'dayofweek', 'dayofyear', 'weekofyear', 'quarter', 'is_month_start', 'is_month_end', 'is_quarter_start', 'is_quarter_end', 'is_year_start', 'is_year_end', 'year_weekofyear']\n"
     ]
    }
   ],
   "source": [
    "date_cols = dates.columns.to_list()\n",
    "date_cols.remove('date')\n",
    "quant_cols = [TARGET, \"onpromotion\"]\n",
    "qual_cols = train___.drop(columns=[TARGET, \"onpromotion\", \"nbr_of_transactions\"]+date_cols+['store_id', 'category_id','ID', 'date']).columns.to_list()\n",
    "print(quant_cols, qual_cols, date_cols)"
   ]
  },
  {
   "cell_type": "code",
   "execution_count": 8,
   "id": "7023686b",
   "metadata": {},
   "outputs": [],
   "source": [
    "datas = train___.drop(columns=[\"store_id\", \"category_id\", \"ID\", \"date\",\"nbr_of_transactions\"])\n",
    "test_data = test___.drop(columns=[\"store_id\", \"category_id\", \"ID\", \"date\"])"
   ]
  },
  {
   "cell_type": "code",
   "execution_count": 9,
   "id": "b882a5ec",
   "metadata": {},
   "outputs": [
    {
     "data": {
      "text/html": [
       "<div>\n",
       "<style scoped>\n",
       "    .dataframe tbody tr th:only-of-type {\n",
       "        vertical-align: middle;\n",
       "    }\n",
       "\n",
       "    .dataframe tbody tr th {\n",
       "        vertical-align: top;\n",
       "    }\n",
       "\n",
       "    .dataframe thead th {\n",
       "        text-align: right;\n",
       "    }\n",
       "</style>\n",
       "<table border=\"1\" class=\"dataframe\">\n",
       "  <thead>\n",
       "    <tr style=\"text-align: right;\">\n",
       "      <th></th>\n",
       "      <th>onpromotion</th>\n",
       "      <th>year</th>\n",
       "      <th>month</th>\n",
       "      <th>dayofmonth</th>\n",
       "      <th>dayofweek</th>\n",
       "      <th>dayofyear</th>\n",
       "      <th>weekofyear</th>\n",
       "      <th>quarter</th>\n",
       "      <th>is_month_start</th>\n",
       "      <th>is_month_end</th>\n",
       "      <th>is_quarter_start</th>\n",
       "      <th>is_quarter_end</th>\n",
       "      <th>is_year_start</th>\n",
       "      <th>is_year_end</th>\n",
       "      <th>year_weekofyear</th>\n",
       "      <th>type_holidays</th>\n",
       "      <th>city</th>\n",
       "      <th>type_store</th>\n",
       "      <th>cluster</th>\n",
       "    </tr>\n",
       "  </thead>\n",
       "  <tbody>\n",
       "    <tr>\n",
       "      <th>0</th>\n",
       "      <td>0</td>\n",
       "      <td>4</td>\n",
       "      <td>6</td>\n",
       "      <td>19</td>\n",
       "      <td>0</td>\n",
       "      <td>170</td>\n",
       "      <td>25</td>\n",
       "      <td>2</td>\n",
       "      <td>False</td>\n",
       "      <td>False</td>\n",
       "      <td>False</td>\n",
       "      <td>False</td>\n",
       "      <td>False</td>\n",
       "      <td>False</td>\n",
       "      <td>425</td>\n",
       "      <td>NaN</td>\n",
       "      <td>0</td>\n",
       "      <td>0</td>\n",
       "      <td>0</td>\n",
       "    </tr>\n",
       "    <tr>\n",
       "      <th>1</th>\n",
       "      <td>0</td>\n",
       "      <td>4</td>\n",
       "      <td>6</td>\n",
       "      <td>19</td>\n",
       "      <td>0</td>\n",
       "      <td>170</td>\n",
       "      <td>25</td>\n",
       "      <td>2</td>\n",
       "      <td>False</td>\n",
       "      <td>False</td>\n",
       "      <td>False</td>\n",
       "      <td>False</td>\n",
       "      <td>False</td>\n",
       "      <td>False</td>\n",
       "      <td>425</td>\n",
       "      <td>NaN</td>\n",
       "      <td>0</td>\n",
       "      <td>0</td>\n",
       "      <td>0</td>\n",
       "    </tr>\n",
       "    <tr>\n",
       "      <th>2</th>\n",
       "      <td>0</td>\n",
       "      <td>4</td>\n",
       "      <td>6</td>\n",
       "      <td>19</td>\n",
       "      <td>0</td>\n",
       "      <td>170</td>\n",
       "      <td>25</td>\n",
       "      <td>2</td>\n",
       "      <td>False</td>\n",
       "      <td>False</td>\n",
       "      <td>False</td>\n",
       "      <td>False</td>\n",
       "      <td>False</td>\n",
       "      <td>False</td>\n",
       "      <td>425</td>\n",
       "      <td>NaN</td>\n",
       "      <td>0</td>\n",
       "      <td>0</td>\n",
       "      <td>0</td>\n",
       "    </tr>\n",
       "    <tr>\n",
       "      <th>3</th>\n",
       "      <td>16</td>\n",
       "      <td>4</td>\n",
       "      <td>6</td>\n",
       "      <td>19</td>\n",
       "      <td>0</td>\n",
       "      <td>170</td>\n",
       "      <td>25</td>\n",
       "      <td>2</td>\n",
       "      <td>False</td>\n",
       "      <td>False</td>\n",
       "      <td>False</td>\n",
       "      <td>False</td>\n",
       "      <td>False</td>\n",
       "      <td>False</td>\n",
       "      <td>425</td>\n",
       "      <td>NaN</td>\n",
       "      <td>0</td>\n",
       "      <td>0</td>\n",
       "      <td>0</td>\n",
       "    </tr>\n",
       "    <tr>\n",
       "      <th>4</th>\n",
       "      <td>0</td>\n",
       "      <td>4</td>\n",
       "      <td>6</td>\n",
       "      <td>19</td>\n",
       "      <td>0</td>\n",
       "      <td>170</td>\n",
       "      <td>25</td>\n",
       "      <td>2</td>\n",
       "      <td>False</td>\n",
       "      <td>False</td>\n",
       "      <td>False</td>\n",
       "      <td>False</td>\n",
       "      <td>False</td>\n",
       "      <td>False</td>\n",
       "      <td>425</td>\n",
       "      <td>NaN</td>\n",
       "      <td>0</td>\n",
       "      <td>0</td>\n",
       "      <td>0</td>\n",
       "    </tr>\n",
       "  </tbody>\n",
       "</table>\n",
       "</div>"
      ],
      "text/plain": [
       "   onpromotion  year  month  dayofmonth  dayofweek  dayofyear  weekofyear  \\\n",
       "0            0     4      6          19          0        170          25   \n",
       "1            0     4      6          19          0        170          25   \n",
       "2            0     4      6          19          0        170          25   \n",
       "3           16     4      6          19          0        170          25   \n",
       "4            0     4      6          19          0        170          25   \n",
       "\n",
       "   quarter  is_month_start  is_month_end  is_quarter_start  is_quarter_end  \\\n",
       "0        2           False         False             False           False   \n",
       "1        2           False         False             False           False   \n",
       "2        2           False         False             False           False   \n",
       "3        2           False         False             False           False   \n",
       "4        2           False         False             False           False   \n",
       "\n",
       "   is_year_start  is_year_end  year_weekofyear  type_holidays  city  \\\n",
       "0          False        False              425            NaN     0   \n",
       "1          False        False              425            NaN     0   \n",
       "2          False        False              425            NaN     0   \n",
       "3          False        False              425            NaN     0   \n",
       "4          False        False              425            NaN     0   \n",
       "\n",
       "   type_store  cluster  \n",
       "0           0        0  \n",
       "1           0        0  \n",
       "2           0        0  \n",
       "3           0        0  \n",
       "4           0        0  "
      ]
     },
     "execution_count": 9,
     "metadata": {},
     "output_type": "execute_result"
    }
   ],
   "source": [
    "test_data.head()"
   ]
  },
  {
   "cell_type": "code",
   "execution_count": 10,
   "id": "c8ffc48f",
   "metadata": {},
   "outputs": [
    {
     "name": "stdout",
     "output_type": "stream",
     "text": [
      "<class 'pandas.core.frame.DataFrame'>\n",
      "RangeIndex: 2288088 entries, 0 to 2288087\n",
      "Data columns (total 20 columns):\n",
      " #   Column            Dtype  \n",
      "---  ------            -----  \n",
      " 0   target            float64\n",
      " 1   onpromotion       int64  \n",
      " 2   year              int64  \n",
      " 3   month             int64  \n",
      " 4   dayofmonth        int64  \n",
      " 5   dayofweek         int64  \n",
      " 6   dayofyear         int64  \n",
      " 7   weekofyear        int64  \n",
      " 8   quarter           int64  \n",
      " 9   is_month_start    bool   \n",
      " 10  is_month_end      bool   \n",
      " 11  is_quarter_start  bool   \n",
      " 12  is_quarter_end    bool   \n",
      " 13  is_year_start     bool   \n",
      " 14  is_year_end       bool   \n",
      " 15  year_weekofyear   int64  \n",
      " 16  type_holidays     float64\n",
      " 17  city              int64  \n",
      " 18  type_store        int64  \n",
      " 19  cluster           int64  \n",
      "dtypes: bool(6), float64(2), int64(12)\n",
      "memory usage: 257.5 MB\n"
     ]
    }
   ],
   "source": [
    "datas.info()"
   ]
  },
  {
   "cell_type": "code",
   "execution_count": 11,
   "id": "2335f8da",
   "metadata": {},
   "outputs": [
    {
     "data": {
      "text/plain": [
       "target                    0\n",
       "onpromotion               0\n",
       "year                      0\n",
       "month                     0\n",
       "dayofmonth                0\n",
       "dayofweek                 0\n",
       "dayofyear                 0\n",
       "weekofyear                0\n",
       "quarter                   0\n",
       "is_month_start            0\n",
       "is_month_end              0\n",
       "is_quarter_start          0\n",
       "is_quarter_end            0\n",
       "is_year_start             0\n",
       "is_year_end               0\n",
       "year_weekofyear           0\n",
       "type_holidays       1899612\n",
       "city                      0\n",
       "type_store                0\n",
       "cluster                   0\n",
       "dtype: int64"
      ]
     },
     "execution_count": 11,
     "metadata": {},
     "output_type": "execute_result"
    }
   ],
   "source": [
    "datas.isna().sum()"
   ]
  },
  {
   "cell_type": "code",
   "execution_count": 12,
   "id": "6c814504",
   "metadata": {},
   "outputs": [
    {
     "data": {
      "text/html": [
       "<div>\n",
       "<style scoped>\n",
       "    .dataframe tbody tr th:only-of-type {\n",
       "        vertical-align: middle;\n",
       "    }\n",
       "\n",
       "    .dataframe tbody tr th {\n",
       "        vertical-align: top;\n",
       "    }\n",
       "\n",
       "    .dataframe thead th {\n",
       "        text-align: right;\n",
       "    }\n",
       "</style>\n",
       "<table border=\"1\" class=\"dataframe\">\n",
       "  <thead>\n",
       "    <tr style=\"text-align: right;\">\n",
       "      <th></th>\n",
       "      <th>target</th>\n",
       "      <th>onpromotion</th>\n",
       "    </tr>\n",
       "  </thead>\n",
       "  <tbody>\n",
       "    <tr>\n",
       "      <th>count</th>\n",
       "      <td>2.288088e+06</td>\n",
       "      <td>2.288088e+06</td>\n",
       "    </tr>\n",
       "    <tr>\n",
       "      <th>mean</th>\n",
       "      <td>3.942845e+02</td>\n",
       "      <td>3.151539e+00</td>\n",
       "    </tr>\n",
       "    <tr>\n",
       "      <th>std</th>\n",
       "      <td>1.179737e+03</td>\n",
       "      <td>1.346699e+01</td>\n",
       "    </tr>\n",
       "    <tr>\n",
       "      <th>min</th>\n",
       "      <td>0.000000e+00</td>\n",
       "      <td>0.000000e+00</td>\n",
       "    </tr>\n",
       "    <tr>\n",
       "      <th>25%</th>\n",
       "      <td>0.000000e+00</td>\n",
       "      <td>0.000000e+00</td>\n",
       "    </tr>\n",
       "    <tr>\n",
       "      <th>50%</th>\n",
       "      <td>1.500000e+01</td>\n",
       "      <td>0.000000e+00</td>\n",
       "    </tr>\n",
       "    <tr>\n",
       "      <th>75%</th>\n",
       "      <td>2.231933e+02</td>\n",
       "      <td>1.000000e+00</td>\n",
       "    </tr>\n",
       "    <tr>\n",
       "      <th>max</th>\n",
       "      <td>1.247170e+05</td>\n",
       "      <td>7.410000e+02</td>\n",
       "    </tr>\n",
       "  </tbody>\n",
       "</table>\n",
       "</div>"
      ],
      "text/plain": [
       "             target   onpromotion\n",
       "count  2.288088e+06  2.288088e+06\n",
       "mean   3.942845e+02  3.151539e+00\n",
       "std    1.179737e+03  1.346699e+01\n",
       "min    0.000000e+00  0.000000e+00\n",
       "25%    0.000000e+00  0.000000e+00\n",
       "50%    1.500000e+01  0.000000e+00\n",
       "75%    2.231933e+02  1.000000e+00\n",
       "max    1.247170e+05  7.410000e+02"
      ]
     },
     "execution_count": 12,
     "metadata": {},
     "output_type": "execute_result"
    }
   ],
   "source": [
    "datas[quant_cols].describe()"
   ]
  },
  {
   "cell_type": "markdown",
   "id": "85694832",
   "metadata": {},
   "source": [
    "# EDA"
   ]
  },
  {
   "cell_type": "markdown",
   "id": "e2a2b615",
   "metadata": {},
   "source": [
    "## Analyse Univariée"
   ]
  },
  {
   "cell_type": "code",
   "execution_count": 13,
   "id": "5e524725",
   "metadata": {},
   "outputs": [],
   "source": [
    "# fig, axes = plt.subplots(1, 2, figsize=(5, 4))\n",
    "# axes = axes.flatten()\n",
    "# ax1 = axes[0]\n",
    "# ax2 = axes[1]\n",
    "\n",
    "# ax1.hist(datas[TARGET], bins=50)\n",
    "# ax1.set_xlabel(TARGET)\n",
    "\n",
    "# ax2.boxplot(datas[TARGET])\n",
    "# ax2.set_xlabel(TARGET)\n",
    "# plt.tight_layout()\n",
    "# plt.show()"
   ]
  },
  {
   "cell_type": "code",
   "execution_count": 14,
   "id": "e2effb7d",
   "metadata": {},
   "outputs": [
    {
     "name": "stdout",
     "output_type": "stream",
     "text": [
      "14.77 % d'outliers\n"
     ]
    }
   ],
   "source": [
    "Q1 = datas[TARGET].quantile(0.25)\n",
    "Q3 = datas[TARGET].quantile(0.75)\n",
    "IQR = Q3 - Q1\n",
    "lower_bound = Q1 - 1.5 * IQR\n",
    "upper_bound = Q3 + 1.5 * IQR\n",
    "outliers = len(datas[TARGET][(datas[TARGET] < lower_bound) | (datas[TARGET] > upper_bound)])\n",
    "perc = outliers/len(datas) * 100\n",
    "print(\"{:.2f} % d'outliers\".format(perc))"
   ]
  },
  {
   "cell_type": "markdown",
   "id": "daa1961b",
   "metadata": {},
   "source": [
    "nous remarquons une forte concentration des données autour de la moyenne et une grandes présences de outliers, nous allons gérer cela plus tard"
   ]
  },
  {
   "cell_type": "code",
   "execution_count": 15,
   "id": "eadd7d66",
   "metadata": {},
   "outputs": [],
   "source": [
    "# cols_to_plot = datas[quant_cols].drop(columns=[\"target\"]).columns\n",
    "\n",
    "# num_columns_to_plot = len(cols_to_plot)\n",
    "# num_rows = num_columns_to_plot\n",
    "\n",
    "# fig, axes = plt.subplots(num_rows, 2, figsize=(15, num_rows * 2.5))\n",
    "\n",
    "# axes = axes.flatten()\n",
    "\n",
    "# for i, col_name in enumerate(cols_to_plot):\n",
    "#     hist_ax = axes[2 * i]\n",
    "#     box_ax = axes[2 * i + 1]\n",
    "\n",
    "#     hist_ax.hist(datas[col_name], bins=50, edgecolor='black', alpha=0.7)\n",
    "#     hist_ax.set_title(f'Histogram of {col_name}')\n",
    "#     hist_ax.set_xlabel(col_name)\n",
    "#     hist_ax.set_ylabel('Frequency')\n",
    "\n",
    "#     box_ax.boxplot(datas[col_name], vert=False, patch_artist=True, boxprops=dict(facecolor='skyblue'))\n",
    "#     box_ax.set_title(f'Box Plot of {col_name}')\n",
    "#     box_ax.set_xlabel(col_name)\n",
    "#     box_ax.set_yticks([])\n",
    "\n",
    "# plt.tight_layout()\n",
    "# plt.show()"
   ]
  },
  {
   "cell_type": "code",
   "execution_count": 16,
   "id": "7e81ed92",
   "metadata": {},
   "outputs": [
    {
     "name": "stdout",
     "output_type": "stream",
     "text": [
      "14.77 % d'outliers dans target\n",
      "66.29 % d'outliers dans onpromotion\n"
     ]
    }
   ],
   "source": [
    "for col in quant_cols:\n",
    "    Q1 = datas[col].quantile(0.25)\n",
    "    Q3 = datas[col].quantile(0.75)\n",
    "    IQR = Q3 - Q1\n",
    "    lower_bound = Q1 - 1.5 * IQR\n",
    "    upper_bound = Q3 + 1.5 * IQR\n",
    "    outliers = len(datas[col][(datas[col] < lower_bound) | (datas[TARGET] > upper_bound)])\n",
    "    perc = outliers/len(datas) * 100\n",
    "    print(\"{:.2f} % d'outliers dans {}\".format(perc, col))"
   ]
  },
  {
   "cell_type": "markdown",
   "id": "e502e5e2",
   "metadata": {},
   "source": [
    "il y a beaucoup d'outlier dans la colonne onpromotion, il seront géré plus tard"
   ]
  },
  {
   "cell_type": "code",
   "execution_count": 17,
   "id": "8f20761c",
   "metadata": {},
   "outputs": [],
   "source": [
    "# for col in [TARGET, \"onpromotion\"]:\n",
    "#     datas[col] = np.log1p(datas[col])\n",
    "\n",
    "# test_data[\"onpromotion\"] = np.log1p(test_data[\"onpromotion\"])"
   ]
  },
  {
   "cell_type": "code",
   "execution_count": 18,
   "id": "159679a0",
   "metadata": {},
   "outputs": [
    {
     "data": {
      "text/html": [
       "<div>\n",
       "<style scoped>\n",
       "    .dataframe tbody tr th:only-of-type {\n",
       "        vertical-align: middle;\n",
       "    }\n",
       "\n",
       "    .dataframe tbody tr th {\n",
       "        vertical-align: top;\n",
       "    }\n",
       "\n",
       "    .dataframe thead th {\n",
       "        text-align: right;\n",
       "    }\n",
       "</style>\n",
       "<table border=\"1\" class=\"dataframe\">\n",
       "  <thead>\n",
       "    <tr style=\"text-align: right;\">\n",
       "      <th></th>\n",
       "      <th>target</th>\n",
       "      <th>onpromotion</th>\n",
       "      <th>year</th>\n",
       "      <th>month</th>\n",
       "      <th>dayofmonth</th>\n",
       "      <th>dayofweek</th>\n",
       "      <th>dayofyear</th>\n",
       "      <th>weekofyear</th>\n",
       "      <th>quarter</th>\n",
       "      <th>is_month_start</th>\n",
       "      <th>is_month_end</th>\n",
       "      <th>is_quarter_start</th>\n",
       "      <th>is_quarter_end</th>\n",
       "      <th>is_year_start</th>\n",
       "      <th>is_year_end</th>\n",
       "      <th>year_weekofyear</th>\n",
       "      <th>type_holidays</th>\n",
       "      <th>city</th>\n",
       "      <th>type_store</th>\n",
       "      <th>cluster</th>\n",
       "    </tr>\n",
       "  </thead>\n",
       "  <tbody>\n",
       "    <tr>\n",
       "      <th>2288083</th>\n",
       "      <td>539.725</td>\n",
       "      <td>0</td>\n",
       "      <td>4</td>\n",
       "      <td>6</td>\n",
       "      <td>18</td>\n",
       "      <td>6</td>\n",
       "      <td>169</td>\n",
       "      <td>24</td>\n",
       "      <td>2</td>\n",
       "      <td>False</td>\n",
       "      <td>False</td>\n",
       "      <td>False</td>\n",
       "      <td>False</td>\n",
       "      <td>False</td>\n",
       "      <td>False</td>\n",
       "      <td>424</td>\n",
       "      <td>NaN</td>\n",
       "      <td>0</td>\n",
       "      <td>1</td>\n",
       "      <td>4</td>\n",
       "    </tr>\n",
       "    <tr>\n",
       "      <th>2288084</th>\n",
       "      <td>84.177</td>\n",
       "      <td>0</td>\n",
       "      <td>4</td>\n",
       "      <td>6</td>\n",
       "      <td>18</td>\n",
       "      <td>6</td>\n",
       "      <td>169</td>\n",
       "      <td>24</td>\n",
       "      <td>2</td>\n",
       "      <td>False</td>\n",
       "      <td>False</td>\n",
       "      <td>False</td>\n",
       "      <td>False</td>\n",
       "      <td>False</td>\n",
       "      <td>False</td>\n",
       "      <td>424</td>\n",
       "      <td>NaN</td>\n",
       "      <td>0</td>\n",
       "      <td>1</td>\n",
       "      <td>4</td>\n",
       "    </tr>\n",
       "    <tr>\n",
       "      <th>2288085</th>\n",
       "      <td>1973.760</td>\n",
       "      <td>3</td>\n",
       "      <td>4</td>\n",
       "      <td>6</td>\n",
       "      <td>18</td>\n",
       "      <td>6</td>\n",
       "      <td>169</td>\n",
       "      <td>24</td>\n",
       "      <td>2</td>\n",
       "      <td>False</td>\n",
       "      <td>False</td>\n",
       "      <td>False</td>\n",
       "      <td>False</td>\n",
       "      <td>False</td>\n",
       "      <td>False</td>\n",
       "      <td>424</td>\n",
       "      <td>NaN</td>\n",
       "      <td>0</td>\n",
       "      <td>1</td>\n",
       "      <td>4</td>\n",
       "    </tr>\n",
       "    <tr>\n",
       "      <th>2288086</th>\n",
       "      <td>2.000</td>\n",
       "      <td>0</td>\n",
       "      <td>4</td>\n",
       "      <td>6</td>\n",
       "      <td>18</td>\n",
       "      <td>6</td>\n",
       "      <td>169</td>\n",
       "      <td>24</td>\n",
       "      <td>2</td>\n",
       "      <td>False</td>\n",
       "      <td>False</td>\n",
       "      <td>False</td>\n",
       "      <td>False</td>\n",
       "      <td>False</td>\n",
       "      <td>False</td>\n",
       "      <td>424</td>\n",
       "      <td>NaN</td>\n",
       "      <td>0</td>\n",
       "      <td>1</td>\n",
       "      <td>4</td>\n",
       "    </tr>\n",
       "    <tr>\n",
       "      <th>2288087</th>\n",
       "      <td>27.076</td>\n",
       "      <td>0</td>\n",
       "      <td>4</td>\n",
       "      <td>6</td>\n",
       "      <td>18</td>\n",
       "      <td>6</td>\n",
       "      <td>169</td>\n",
       "      <td>24</td>\n",
       "      <td>2</td>\n",
       "      <td>False</td>\n",
       "      <td>False</td>\n",
       "      <td>False</td>\n",
       "      <td>False</td>\n",
       "      <td>False</td>\n",
       "      <td>False</td>\n",
       "      <td>424</td>\n",
       "      <td>NaN</td>\n",
       "      <td>0</td>\n",
       "      <td>1</td>\n",
       "      <td>4</td>\n",
       "    </tr>\n",
       "  </tbody>\n",
       "</table>\n",
       "</div>"
      ],
      "text/plain": [
       "           target  onpromotion  year  month  dayofmonth  dayofweek  dayofyear  \\\n",
       "2288083   539.725            0     4      6          18          6        169   \n",
       "2288084    84.177            0     4      6          18          6        169   \n",
       "2288085  1973.760            3     4      6          18          6        169   \n",
       "2288086     2.000            0     4      6          18          6        169   \n",
       "2288087    27.076            0     4      6          18          6        169   \n",
       "\n",
       "         weekofyear  quarter  is_month_start  is_month_end  is_quarter_start  \\\n",
       "2288083          24        2           False         False             False   \n",
       "2288084          24        2           False         False             False   \n",
       "2288085          24        2           False         False             False   \n",
       "2288086          24        2           False         False             False   \n",
       "2288087          24        2           False         False             False   \n",
       "\n",
       "         is_quarter_end  is_year_start  is_year_end  year_weekofyear  \\\n",
       "2288083           False          False        False              424   \n",
       "2288084           False          False        False              424   \n",
       "2288085           False          False        False              424   \n",
       "2288086           False          False        False              424   \n",
       "2288087           False          False        False              424   \n",
       "\n",
       "         type_holidays  city  type_store  cluster  \n",
       "2288083            NaN     0           1        4  \n",
       "2288084            NaN     0           1        4  \n",
       "2288085            NaN     0           1        4  \n",
       "2288086            NaN     0           1        4  \n",
       "2288087            NaN     0           1        4  "
      ]
     },
     "execution_count": 18,
     "metadata": {},
     "output_type": "execute_result"
    }
   ],
   "source": [
    "datas.tail()"
   ]
  },
  {
   "cell_type": "code",
   "execution_count": 19,
   "id": "47918888",
   "metadata": {},
   "outputs": [],
   "source": [
    "datas[\"type_holidays\"] = datas[\"type_holidays\"].fillna(6)\n",
    "test_data[\"type_holidays\"] = test_data[\"type_holidays\"].fillna(6)"
   ]
  },
  {
   "cell_type": "markdown",
   "id": "b0fd532e",
   "metadata": {},
   "source": [
    "## Analyse bivariée"
   ]
  },
  {
   "cell_type": "code",
   "execution_count": 20,
   "id": "ad34e2e2",
   "metadata": {},
   "outputs": [],
   "source": [
    "# sns.pairplot(datas[quant_cols])"
   ]
  },
  {
   "cell_type": "code",
   "execution_count": 21,
   "id": "ac7dbe39",
   "metadata": {},
   "outputs": [
    {
     "data": {
      "text/html": [
       "<div>\n",
       "<style scoped>\n",
       "    .dataframe tbody tr th:only-of-type {\n",
       "        vertical-align: middle;\n",
       "    }\n",
       "\n",
       "    .dataframe tbody tr th {\n",
       "        vertical-align: top;\n",
       "    }\n",
       "\n",
       "    .dataframe thead th {\n",
       "        text-align: right;\n",
       "    }\n",
       "</style>\n",
       "<table border=\"1\" class=\"dataframe\">\n",
       "  <thead>\n",
       "    <tr style=\"text-align: right;\">\n",
       "      <th></th>\n",
       "      <th>target</th>\n",
       "      <th>onpromotion</th>\n",
       "    </tr>\n",
       "  </thead>\n",
       "  <tbody>\n",
       "    <tr>\n",
       "      <th>target</th>\n",
       "      <td>1.00000</td>\n",
       "      <td>0.43498</td>\n",
       "    </tr>\n",
       "    <tr>\n",
       "      <th>onpromotion</th>\n",
       "      <td>0.43498</td>\n",
       "      <td>1.00000</td>\n",
       "    </tr>\n",
       "  </tbody>\n",
       "</table>\n",
       "</div>"
      ],
      "text/plain": [
       "              target  onpromotion\n",
       "target       1.00000      0.43498\n",
       "onpromotion  0.43498      1.00000"
      ]
     },
     "execution_count": 21,
     "metadata": {},
     "output_type": "execute_result"
    }
   ],
   "source": [
    "corr_matrix = datas[quant_cols].corr()\n",
    "corr_matrix"
   ]
  },
  {
   "cell_type": "code",
   "execution_count": 22,
   "id": "f7f87e2c",
   "metadata": {},
   "outputs": [],
   "source": [
    "# sns.heatmap(corr_matrix, annot=True, cmap=\"coolwarm\")"
   ]
  },
  {
   "cell_type": "markdown",
   "id": "d84fe4d2",
   "metadata": {},
   "source": [
    "il existe une bonne relation entre target et onpromotion, cependant elle est plus faible entre nbr_of_transactions et target"
   ]
  },
  {
   "cell_type": "code",
   "execution_count": 23,
   "id": "bb2c2e16",
   "metadata": {},
   "outputs": [
    {
     "data": {
      "text/plain": [
       "['type_holidays', 'city', 'type_store', 'cluster']"
      ]
     },
     "execution_count": 23,
     "metadata": {},
     "output_type": "execute_result"
    }
   ],
   "source": [
    "qual_cols"
   ]
  },
  {
   "cell_type": "code",
   "execution_count": 24,
   "id": "09df1c13",
   "metadata": {},
   "outputs": [],
   "source": [
    "# fig, axes = plt.subplots(2, 2, figsize=(8, 8))\n",
    "# for i, col in enumerate(qual_cols):\n",
    "#     ax = axes[i // 2, i % 2]\n",
    "#     sns.boxplot(data=datas, x=col, y=TARGET, ax=ax)\n",
    "#     ax.set_title(col)\n",
    "# plt.tight_layout()\n",
    "# plt.show()"
   ]
  },
  {
   "cell_type": "markdown",
   "id": "2b668d4e",
   "metadata": {},
   "source": [
    "les variables qualitatives type_holidays et type_store n'ont pas un impact significatif sur le target, elle seront supprimées dans le cadre de la construction de notre modèle."
   ]
  },
  {
   "cell_type": "markdown",
   "id": "72a6f534",
   "metadata": {},
   "source": [
    "#### Analyse en fonction des dates"
   ]
  },
  {
   "cell_type": "code",
   "execution_count": 25,
   "id": "5719977b",
   "metadata": {},
   "outputs": [
    {
     "data": {
      "text/plain": [
       "14"
      ]
     },
     "execution_count": 25,
     "metadata": {},
     "output_type": "execute_result"
    }
   ],
   "source": [
    "len(date_cols)"
   ]
  },
  {
   "cell_type": "code",
   "execution_count": 26,
   "id": "5cb570b7",
   "metadata": {},
   "outputs": [],
   "source": [
    "# sns.lineplot(datas, x='date', y=TARGET)"
   ]
  },
  {
   "cell_type": "code",
   "execution_count": 27,
   "id": "ebe15381",
   "metadata": {},
   "outputs": [],
   "source": [
    "# sns.lineplot(datas, x='year_weekofyear', y=TARGET)"
   ]
  },
  {
   "cell_type": "code",
   "execution_count": 28,
   "id": "68d3c104",
   "metadata": {},
   "outputs": [],
   "source": [
    "# n_cols = 5  \n",
    "# n_features = len(date_cols)\n",
    "# n_rows = (n_features + n_cols - 1) // n_cols\n",
    "# print(n_cols, n_rows)\n",
    "\n",
    "# fig, axes = plt.subplots(n_rows, n_cols, figsize=(n_cols * 4, n_rows * 3)) \n",
    "# for i, col in enumerate(date_cols):\n",
    "#     ax = axes[i // n_cols, i % n_cols]\n",
    "#     sns.boxplot(datas, x=col, y=TARGET, ax=ax)\n",
    "#     ax.set_title(col)\n",
    "#     plt.xticks(rotation=90)\n",
    "# plt.tight_layout()\n",
    "# plt.show()"
   ]
  },
  {
   "cell_type": "markdown",
   "id": "9811c1b1",
   "metadata": {},
   "source": [
    "### Data Preprocessing"
   ]
  },
  {
   "cell_type": "code",
   "execution_count": 29,
   "id": "217c0855",
   "metadata": {},
   "outputs": [],
   "source": [
    "encoder = OneHotEncoder(handle_unknown='ignore', sparse_output=False)\n",
    "encoded_features_array = encoder.fit_transform(datas[qual_cols])\n",
    "\n",
    "\n",
    "datas_encoded = pd.DataFrame(encoded_features_array, columns=encoder.get_feature_names_out(qual_cols))"
   ]
  },
  {
   "cell_type": "code",
   "execution_count": 30,
   "id": "70c3fac0",
   "metadata": {},
   "outputs": [],
   "source": [
    "\n",
    "encoded_features_array_test = encoder.transform(test_data[qual_cols])\n",
    "datas_test_encoded = pd.DataFrame(encoded_features_array_test, columns=encoder.get_feature_names_out(qual_cols))"
   ]
  },
  {
   "cell_type": "code",
   "execution_count": 31,
   "id": "f5903677",
   "metadata": {},
   "outputs": [],
   "source": [
    "encoded_cols = datas_encoded.columns.tolist()\n",
    "datas[encoded_cols] = datas_encoded\n",
    "test_data[encoded_cols] = datas_test_encoded"
   ]
  },
  {
   "cell_type": "markdown",
   "id": "41169f04",
   "metadata": {},
   "source": [
    "# modélisation"
   ]
  },
  {
   "cell_type": "code",
   "execution_count": 32,
   "id": "22cac527",
   "metadata": {},
   "outputs": [],
   "source": [
    "# preprocessor = ColumnTransformer(\n",
    "#     transformers=[\n",
    "#         ('num', 'passthrough', quant_cols),\n",
    "#         ('bool', 'passthrough', qual_cols),   # Les colonnes booléennes passent (XGBoost les gérera comme 0/1)\n",
    "#         ('cat', OneHotEncoder(handle_unknown='ignore'), categorical_object_cols) # One-Hot pour les catégorielles\n",
    "#     ])"
   ]
  },
  {
   "cell_type": "code",
   "execution_count": 33,
   "id": "decf978d",
   "metadata": {},
   "outputs": [],
   "source": [
    "# for col in date_cols_to_keep:\n",
    "#     try:\n",
    "#         date_cols.remove(col)\n",
    "#     except:\n",
    "#         pass"
   ]
  },
  {
   "cell_type": "code",
   "execution_count": 34,
   "id": "c981a057",
   "metadata": {},
   "outputs": [
    {
     "data": {
      "text/plain": [
       "Index(['onpromotion', 'year', 'month', 'dayofmonth', 'dayofweek', 'dayofyear',\n",
       "       'weekofyear', 'quarter', 'is_month_start', 'is_month_end',\n",
       "       'is_quarter_start', 'is_quarter_end', 'is_year_start', 'is_year_end',\n",
       "       'year_weekofyear', 'type_holidays', 'city', 'type_store', 'cluster',\n",
       "       'type_holidays_0.0', 'type_holidays_1.0', 'type_holidays_2.0',\n",
       "       'type_holidays_3.0', 'type_holidays_4.0', 'type_holidays_5.0',\n",
       "       'type_holidays_6.0', 'city_0', 'city_1', 'city_2', 'city_3', 'city_4',\n",
       "       'city_5', 'city_6', 'city_7', 'city_8', 'city_9', 'city_10', 'city_11',\n",
       "       'city_12', 'city_13', 'city_14', 'city_15', 'city_16', 'city_17',\n",
       "       'city_18', 'city_19', 'city_20', 'city_21', 'type_store_0',\n",
       "       'type_store_1', 'type_store_2', 'type_store_3', 'type_store_4',\n",
       "       'cluster_0', 'cluster_1', 'cluster_2', 'cluster_3', 'cluster_4',\n",
       "       'cluster_5', 'cluster_6', 'cluster_7', 'cluster_8', 'cluster_9',\n",
       "       'cluster_10', 'cluster_11', 'cluster_12', 'cluster_13', 'cluster_14',\n",
       "       'cluster_15', 'cluster_16'],\n",
       "      dtype='object')"
      ]
     },
     "execution_count": 34,
     "metadata": {},
     "output_type": "execute_result"
    }
   ],
   "source": [
    "X = datas.drop(columns=[TARGET])\n",
    "y = datas[TARGET]\n",
    "X.columns"
   ]
  },
  {
   "cell_type": "code",
   "execution_count": 35,
   "id": "030838a5",
   "metadata": {},
   "outputs": [],
   "source": [
    "y = np.log1p(y)"
   ]
  },
  {
   "cell_type": "code",
   "execution_count": 36,
   "id": "a4c15294",
   "metadata": {},
   "outputs": [],
   "source": [
    "X_train, X_test, y_train, y_test = train_test_split(X, y, test_size=0.2, random_state=42)"
   ]
  },
  {
   "cell_type": "code",
   "execution_count": 50,
   "id": "9a0ff08f",
   "metadata": {},
   "outputs": [
    {
     "name": "stdout",
     "output_type": "stream",
     "text": [
      "[[0. 2. 7. ... 0. 0. 0.]\n",
      " [0. 2. 6. ... 0. 0. 0.]\n",
      " [0. 1. 7. ... 0. 0. 0.]\n",
      " ...\n",
      " [5. 3. 7. ... 0. 0. 0.]\n",
      " [0. 4. 5. ... 0. 0. 0.]\n",
      " [7. 4. 5. ... 0. 0. 0.]]\n"
     ]
    }
   ],
   "source": [
    "selector = SelectKBest(score_func=f_regression, k=40)\n",
    "X_train_selected = selector.fit_transform(X_train, y_train)\n",
    "X_test_selected = selector.transform(X_test)\n",
    "print(X_train_selected)"
   ]
  },
  {
   "cell_type": "code",
   "execution_count": 53,
   "id": "3025473b",
   "metadata": {},
   "outputs": [],
   "source": [
    "params = {\n",
    "    'objective': 'reg:squarederror',\n",
    "    'eval_metric': 'rmse',\n",
    "    'max_depth': 6,\n",
    "    'learning_rate': 0.1,\n",
    "    'subsample': 0.8,\n",
    "    'colsample_bytree': 0.8,\n",
    "    'random_state': 42\n",
    "}\n",
    "\n",
    "\n",
    "params['reg_alpha'] = 0.1\n",
    "params['reg_lambda'] = 0.1"
   ]
  },
  {
   "cell_type": "code",
   "execution_count": 54,
   "id": "6759c81f",
   "metadata": {},
   "outputs": [
    {
     "name": "stderr",
     "output_type": "stream",
     "text": [
      "/home/hermann/miniconda3/lib/python3.12/site-packages/xgboost/training.py:183: UserWarning: [18:50:19] WARNING: /workspace/src/learner.cc:738: \n",
      "Parameters: { \"params\" } are not used.\n",
      "\n",
      "  bst.update(dtrain, iteration=i, fobj=obj)\n"
     ]
    },
    {
     "name": "stdout",
     "output_type": "stream",
     "text": [
      "1.9216540106456343\n"
     ]
    }
   ],
   "source": [
    "model = XGBRegressor(params=params)\n",
    "model.fit(X_train_selected, y_train)\n",
    "y_pred = model.predict(X_test_selected)\n",
    "rmse = root_mean_squared_error(y_test, y_pred)\n",
    "print(rmse)"
   ]
  },
  {
   "cell_type": "code",
   "execution_count": null,
   "id": "bd2733e6",
   "metadata": {},
   "outputs": [
    {
     "name": "stdout",
     "output_type": "stream",
     "text": [
      "1.920003374168876\n"
     ]
    }
   ],
   "source": [
    "# model = XGBRegressor()\n",
    "# model.fit(X_train, y_train)\n",
    "# y_pred = model.predict(X_test)\n",
    "# rmse = root_mean_squared_error(y_test, y_pred)\n",
    "# print(rmse)"
   ]
  },
  {
   "cell_type": "markdown",
   "id": "cdb045a1",
   "metadata": {},
   "source": [
    "# Submission"
   ]
  },
  {
   "cell_type": "code",
   "execution_count": 41,
   "id": "1e719c9b",
   "metadata": {},
   "outputs": [],
   "source": [
    "# test_with_drop = test_data.drop(columns=['type_holidays', 'type_store',])\n",
    "# test_with_drop.head()"
   ]
  },
  {
   "cell_type": "code",
   "execution_count": 42,
   "id": "8f2ba264",
   "metadata": {},
   "outputs": [],
   "source": [
    "model.predict(X)\n",
    "y_ = model.predict(test_data)"
   ]
  },
  {
   "cell_type": "code",
   "execution_count": 43,
   "id": "429c35cf",
   "metadata": {},
   "outputs": [],
   "source": [
    "submission = pd.DataFrame()\n",
    "submission['ID'] = test___[\"ID\"]\n",
    "submission['target'] = np.expm1(y_)\n",
    "submission = submission.set_index(\"ID\")"
   ]
  },
  {
   "cell_type": "code",
   "execution_count": 44,
   "id": "bf7b3ce6",
   "metadata": {},
   "outputs": [],
   "source": [
    "submission.to_csv(\"submission.csv\")"
   ]
  },
  {
   "cell_type": "code",
   "execution_count": 49,
   "id": "238a6a1a",
   "metadata": {},
   "outputs": [
    {
     "name": "stdout",
     "output_type": "stream",
     "text": [
      "   onpromotion  year  month  dayofmonth  dayofweek  dayofyear  weekofyear  \\\n",
      "0            0     1      1           1          2          1           1   \n",
      "1            0     1      1           1          2          1           1   \n",
      "2            0     1      1           1          2          1           1   \n",
      "3            0     1      1           1          2          1           1   \n",
      "4            0     1      1           1          2          1           1   \n",
      "\n",
      "   quarter  is_month_start  is_month_end  ...  cluster_7  cluster_8  \\\n",
      "0        1            True         False  ...        0.0        0.0   \n",
      "1        1            True         False  ...        0.0        0.0   \n",
      "2        1            True         False  ...        0.0        0.0   \n",
      "3        1            True         False  ...        0.0        0.0   \n",
      "4        1            True         False  ...        0.0        0.0   \n",
      "\n",
      "   cluster_9  cluster_10  cluster_11  cluster_12  cluster_13  cluster_14  \\\n",
      "0        0.0         0.0         0.0         0.0         0.0         0.0   \n",
      "1        0.0         0.0         0.0         0.0         0.0         0.0   \n",
      "2        0.0         0.0         0.0         0.0         0.0         0.0   \n",
      "3        0.0         0.0         0.0         0.0         0.0         0.0   \n",
      "4        0.0         0.0         0.0         0.0         0.0         0.0   \n",
      "\n",
      "   cluster_15  cluster_16  \n",
      "0         0.0         0.0  \n",
      "1         0.0         0.0  \n",
      "2         0.0         0.0  \n",
      "3         0.0         0.0  \n",
      "4         0.0         0.0  \n",
      "\n",
      "[5 rows x 70 columns]\n"
     ]
    }
   ],
   "source": [
    "print(X.head())"
   ]
  }
 ],
 "metadata": {
  "kernelspec": {
   "display_name": "base",
   "language": "python",
   "name": "python3"
  },
  "language_info": {
   "codemirror_mode": {
    "name": "ipython",
    "version": 3
   },
   "file_extension": ".py",
   "mimetype": "text/x-python",
   "name": "python",
   "nbconvert_exporter": "python",
   "pygments_lexer": "ipython3",
   "version": "3.12.2"
  }
 },
 "nbformat": 4,
 "nbformat_minor": 5
}
